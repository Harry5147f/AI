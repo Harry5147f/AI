{
  "cells": [
    {
      "cell_type": "markdown",
      "metadata": {
        "id": "kYAjpNT_A-uJ"
      },
      "source": [
        "**Day_4 File handling and exceptions**"
      ]
    },
    {
      "cell_type": "markdown",
      "metadata": {
        "id": "UrSkS8udBGCA"
      },
      "source": [
        "#Opening and reading\n"
      ]
    },
    {
      "cell_type": "code",
      "execution_count": null,
      "metadata": {
        "colab": {
          "base_uri": "https://localhost:8080/"
        },
        "id": "1PRgGcn0AuPQ",
        "outputId": "189e6c45-6375-45bd-b643-d59bad500611"
      },
      "outputs": [
        {
          "name": "stdout",
          "output_type": "stream",
          "text": [
            "Hello everyone\n",
            "\n",
            "['I am learning python file handling\\n', 'I am 20 years old\\n', 'This is seep mela 2082\\n']\n",
            "\n"
          ]
        }
      ],
      "source": [
        "a=open(\"test.txt\",\"r\") #f=open(\"/path/to/the/file.extension\", \"mode\")\n",
        "# for line in f:\n",
        "#   print(line)\n",
        "#print(f.read())\n",
        "print(a.readline()) #read only one line\n",
        "print(a.readlines()) #read whole file line by line\n",
        "#print(\"\\n\")\n",
        "print(a.read(13))#10 oota letter haru print garxa\n",
        "a.close()"
      ]
    },
    {
      "cell_type": "code",
      "execution_count": null,
      "metadata": {
        "colab": {
          "base_uri": "https://localhost:8080/"
        },
        "id": "SXRBTriBA9cL",
        "outputId": "63796090-87de-4d06-f527-b638a55f9fe9"
      },
      "outputs": [
        {
          "name": "stdout",
          "output_type": "stream",
          "text": [
            "File not found\n"
          ]
        }
      ],
      "source": [
        "\n",
        "try:\n",
        "  with open(\"test.txt\",\"r\") as a:\n",
        "    print(a.read())\n",
        "    print(\"\\n\")\n",
        "    print(a.read())\n",
        "except FileNotFoundError:\n",
        "  print(\"File not found\")"
      ]
    },
    {
      "cell_type": "code",
      "execution_count": null,
      "metadata": {
        "id": "6iosVR45D_Yd"
      },
      "outputs": [],
      "source": [
        "with open (\"file.txt\",\"w\") as new:\n",
        "  new.write(\"Hello \")"
      ]
    },
    {
      "cell_type": "code",
      "execution_count": null,
      "metadata": {
        "id": "HGnLFJjmFEQq"
      },
      "outputs": [],
      "source": [
        "with open(\"file.txt\",\"w\") as f:\n",
        "  f.write(\"Hello world\")"
      ]
    },
    {
      "cell_type": "markdown",
      "metadata": {
        "id": "kgYBLCy1PNAW"
      },
      "source": []
    },
    {
      "cell_type": "markdown",
      "metadata": {
        "id": "jFeCtjYhPTN2"
      },
      "source": [
        "**Task 1**"
      ]
    },
    {
      "cell_type": "code",
      "execution_count": null,
      "metadata": {
        "colab": {
          "base_uri": "https://localhost:8080/"
        },
        "id": "7vAMFC62Funh",
        "outputId": "75795837-e637-4ab2-9945-7aa759461700"
      },
      "outputs": [
        {
          "name": "stdout",
          "output_type": "stream",
          "text": [
            "File is not created\n"
          ]
        }
      ],
      "source": [
        "try:\n",
        "  with open(\"data.txt\", \"r\") as dat:\n",
        "    print(dat.read())\n",
        "except FileNotFoundError:\n",
        "  print(\"File is not created\")\n"
      ]
    },
    {
      "cell_type": "markdown",
      "metadata": {
        "id": "sbXvkzIOP-cO"
      },
      "source": [
        "**Task2**"
      ]
    },
    {
      "cell_type": "code",
      "execution_count": null,
      "metadata": {
        "id": "lBXRECu7P76d"
      },
      "outputs": [],
      "source": [
        "\n",
        "name=input(\"Enter your name: \")\n",
        "with open(\"user.txt\",\"w\") as user:\n",
        "  user.write(name)\n"
      ]
    },
    {
      "cell_type": "markdown",
      "metadata": {
        "id": "N61uAUUDQtW7"
      },
      "source": [
        "**Task3**"
      ]
    },
    {
      "cell_type": "code",
      "execution_count": null,
      "metadata": {
        "colab": {
          "background_save": true
        },
        "id": "cZl9iqhGQvvC",
        "outputId": "ede28938-4fc5-41b3-b041-9eb3c6ac413f"
      },
      "outputs": [
        {
          "name": "stdout",
          "output_type": "stream",
          "text": [
            "4\n",
            "0\n"
          ]
        }
      ],
      "source": [
        "count=0\n",
        "try:\n",
        "  with open(\"test.txt\", \"r\") as story:\n",
        "    words=story.read()\n",
        "    List=words.split()\n",
        "    print(len(List))\n",
        "    story.seek(0)\n",
        "    # for line in story:\n",
        "    #   for words in line:\n",
        "\n",
        "    #     if words==\"\":\n",
        "    #       count+=1\n",
        "\n",
        "  print(count)\n",
        "except FileNotFoundError:\n",
        "  print(\"file not created\")\n"
      ]
    },
    {
      "cell_type": "markdown",
      "metadata": {
        "id": "atStsmS2I-AN"
      },
      "source": [
        "**Task 4**"
      ]
    },
    {
      "cell_type": "code",
      "execution_count": null,
      "metadata": {
        "id": "g1UpC54eI_8f"
      },
      "outputs": [],
      "source": [
        "line=input(\"Enter some words: \").strip()\n",
        "try:\n",
        "  with open(\"notes.txt\", \"a\") as file:\n",
        "    file.write(line)\n",
        "except FileNotFoundError:\n",
        "  with open(\"notes.txt\",\"w\") as file:\n",
        "    file.write(line)\n"
      ]
    },
    {
      "cell_type": "markdown",
      "metadata": {
        "id": "pA-CQAgWJkjQ"
      },
      "source": [
        "**Task 5**"
      ]
    },
    {
      "cell_type": "code",
      "execution_count": null,
      "metadata": {
        "id": "WTCp9a4JJ3RY"
      },
      "outputs": [],
      "source": [
        "try:\n",
        "  sum=0\n",
        "  with open(\"numbers.txt\",\"r\") as file:\n",
        "    for num in file:\n",
        "      num=float(num)\n",
        "      sum+=num\n",
        "except FileNotFoundError:\n",
        "  print(\"File not found!\")\n",
        "except ValueError:\n",
        "  print(\"File contains other than numerical values too\")\n",
        "finally:\n",
        "  print(\"End of execution\")"
      ]
    },
    {
      "cell_type": "code",
      "execution_count": null,
      "metadata": {
        "id": "vG7bhMBNJ3N0"
      },
      "outputs": [],
      "source": []
    },
    {
      "cell_type": "markdown",
      "metadata": {
        "id": "LJa1t3DARol_"
      },
      "source": [
        "#Delete a file/folder"
      ]
    },
    {
      "cell_type": "code",
      "execution_count": null,
      "metadata": {
        "id": "2nFmAtVqRsK-"
      },
      "outputs": [],
      "source": [
        "import os\n",
        "#removes file\n",
        "os.remove(\"file.txt\")\n",
        "#removes or delete folder\n",
        "os.rmdir(\"/content/Delete_me\")"
      ]
    },
    {
      "cell_type": "markdown",
      "metadata": {
        "id": "p-nAM4D0RInu"
      },
      "source": []
    }
  ],
  "metadata": {
    "colab": {
      "provenance": []
    },
    "kernelspec": {
      "display_name": "Python 3",
      "name": "python3"
    },
    "language_info": {
      "name": "python"
    }
  },
  "nbformat": 4,
  "nbformat_minor": 0
}