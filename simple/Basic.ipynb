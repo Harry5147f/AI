{
  "nbformat": 4,
  "nbformat_minor": 0,
  "metadata": {
    "colab": {
      "provenance": []
    },
    "kernelspec": {
      "name": "python3",
      "display_name": "Python 3"
    },
    "language_info": {
      "name": "python"
    }
  },
  "cells": [
    {
      "cell_type": "markdown",
      "source": [
        "#***Section***\n"
      ],
      "metadata": {
        "id": "VhJlEE3qw9IT"
      }
    },
    {
      "cell_type": "code",
      "source": [
        "print(\"Hello\")"
      ],
      "metadata": {
        "colab": {
          "base_uri": "https://localhost:8080/"
        },
        "id": "-gsHI6GlxMlf",
        "outputId": "387a4617-5cc5-49ab-a9f0-ce1a3c867ec8"
      },
      "execution_count": null,
      "outputs": [
        {
          "output_type": "stream",
          "name": "stdout",
          "text": [
            "Hello\n"
          ]
        }
      ]
    },
    {
      "cell_type": "markdown",
      "source": [
        "**Area of Square**"
      ],
      "metadata": {
        "id": "7_pALRdlzCYl"
      }
    },
    {
      "cell_type": "code",
      "execution_count": null,
      "metadata": {
        "id": "l3PmjkOmwpgr"
      },
      "outputs": [],
      "source": [
        "\n",
        "def area_of_square():\n",
        "    length=float(input(\"Enter the length of square \"))\n",
        "    return length\n",
        "\n",
        "print(area_of_square())\n"
      ]
    },
    {
      "cell_type": "markdown",
      "source": [
        "**List and tuple**"
      ],
      "metadata": {
        "id": "lvIb-1yNz8cm"
      }
    },
    {
      "cell_type": "code",
      "source": [
        "\n",
        "fruits=[\"Apple\", \"Banana\", \"Kiwi\", \"Strawberry\"]\n",
        "print(fruits[0])\n",
        "print(fruits)\n",
        "\n",
        "fruits.pop()\n",
        "print(fruits)\n",
        "fruits.pop(0)#Removes 1st element\n",
        "print(fruits)\n",
        "fruits.remove(\"Kiwi\")\n",
        "print(fruits)\n",
        "\n",
        "fruits.insert(0,\"Apple\")\n",
        "print(fruits)\n",
        "fruits.append(\"Strawberry\")\n",
        "print(fruits)\n",
        "\n"
      ],
      "metadata": {
        "colab": {
          "base_uri": "https://localhost:8080/"
        },
        "id": "pff9ER_Ww0p2",
        "outputId": "7b2b40cb-a7c4-4c85-ede4-d4a54eae8a29"
      },
      "execution_count": null,
      "outputs": [
        {
          "output_type": "stream",
          "name": "stdout",
          "text": [
            "Apple\n",
            "['Apple', 'Banana', 'Kiwi', 'Strawberry']\n",
            "['Apple', 'Banana', 'Kiwi']\n",
            "['Banana', 'Kiwi']\n",
            "['Apple', 'Banana', 'Kiwi']\n",
            "['Apple', 'Banana', 'Kiwi', 'Strawberry']\n",
            "['Apple', 'Banana', 'Strawberry']\n"
          ]
        }
      ]
    },
    {
      "cell_type": "markdown",
      "source": [
        "**Dictionary and sets**"
      ],
      "metadata": {
        "id": "O8jQLfNv91Pv"
      }
    },
    {
      "cell_type": "code",
      "source": [
        "#Dictionary and sets\n",
        "student={\n",
        "    \"name\": \"Bishal sunar\",\n",
        "    \"age\": 20,\n",
        "    \"Course\": \"Artificial intelligence\"\n",
        "}\n",
        "print(student[\"age\"])\n",
        "student[\"age\"]=21\n",
        "student[\"address\"]=\"Purano naikap\"\n",
        "for read in student:\n",
        "  print(read+ \" \"+student[read])\n",
        "del student[\"address\"]\n",
        "\n"
      ],
      "metadata": {
        "id": "3WmB8vRizuvc"
      },
      "execution_count": null,
      "outputs": []
    },
    {
      "cell_type": "code",
      "source": [],
      "metadata": {
        "id": "30DqzVbZ9mDM"
      },
      "execution_count": null,
      "outputs": []
    },
    {
      "cell_type": "markdown",
      "source": [
        "**Task 1**"
      ],
      "metadata": {
        "id": "n5YTYjJn-BXz"
      }
    },
    {
      "cell_type": "code",
      "source": [
        "#temperature converter\n",
        "print(\"1)Celcius \\n 2)Farenheit\")#asking user for input\n",
        "choice=int(input(\"Enter your choice\"))\n",
        "#celcius\n",
        "if choice==1:\n",
        "  celcius=float(input(\"Enter the temperature in celcius: \"))\n",
        "  fahrenheit=(celcius*(9/5)) +32#formula to convert to fahrenheit\n",
        "  #printing result\n",
        "  print(\"{1} celcius = {0} fahrenheit\".format(fahrenheit, celcius))\n",
        "#fahrenheit\n",
        "else:\n",
        "  fahrenheit=float(input(\"Enter  the temperature in fahrenheit: \"))\n",
        "  celcius=(farenheit-32)*(5/9)#formula to convert to celcius\n",
        "  #printing the result\n",
        "  print(\"{0} fahrenheit={1} celcius\".format(fahrenheit, celcius))\n"
      ],
      "metadata": {
        "id": "Np80Aplo-E8S"
      },
      "execution_count": null,
      "outputs": []
    },
    {
      "cell_type": "markdown",
      "source": [
        "# ***Homework***"
      ],
      "metadata": {
        "id": "kSNZ9U9eGhxr"
      }
    },
    {
      "cell_type": "code",
      "source": [
        "agecalc"
      ],
      "metadata": {
        "id": "cjQcQNb_GpYc"
      },
      "execution_count": null,
      "outputs": []
    },
    {
      "cell_type": "code",
      "source": [
        "from datetime import datetime #For time formatting\n",
        "birthyear=int(input(\"Enter your date of birth: \")) #Asking user date\n",
        "currentyear=datetime.now().year #Current date and filering year\n",
        "age=currentyear-birthyear\n",
        "print(\"Your age is: {0}\".format(age))\n"
      ],
      "metadata": {
        "id": "EhjmAyQMATLn"
      },
      "execution_count": null,
      "outputs": []
    },
    {
      "cell_type": "markdown",
      "source": [
        "BMI calc"
      ],
      "metadata": {
        "id": "Xt8bAZJoG4sx"
      }
    },
    {
      "cell_type": "code",
      "source": [
        "mass=float(input(\"Enter your weight in kg:  \"))\n",
        "height=float(input(\"Enter your height in m: \"))\n",
        "BMI=mass/(height*height)\n",
        "print(\"BMI ={0:.2f}\".format(BMI))\n",
        "if BMI<18.5:\n",
        "    print(\"You are underweight\")\n",
        "elif BMI<26:\n",
        "    print(\"Normal weight\")\n",
        "elif BMI<30:\n",
        "    print(\"You are overweight\")\n",
        "else:\n",
        "    print(\"You are obese\")\n"
      ],
      "metadata": {
        "id": "uScJDLRxG7cq"
      },
      "execution_count": null,
      "outputs": []
    },
    {
      "cell_type": "markdown",
      "source": [
        "Currenty converter"
      ],
      "metadata": {
        "id": "T-qZo3SzHE0S"
      }
    },
    {
      "cell_type": "code",
      "source": [
        "npr=float(input(\"Enter the currency in NPR: \"))\n",
        "dollar=npr/130 #Dollar conversion```\n",
        "\n",
        "\n",
        "print(\"{0} NPR= {1:.2f} dollar\".format(npr, dollar))\n"
      ],
      "metadata": {
        "id": "FCKeBc5cHU6D"
      },
      "execution_count": null,
      "outputs": []
    },
    {
      "cell_type": "markdown",
      "source": [
        "Temp convert"
      ],
      "metadata": {
        "id": "CazftPj1G-qT"
      }
    },
    {
      "cell_type": "code",
      "source": [
        "#temperature converter\n",
        "print(\"1)Celcius \\n 2)Farenheit\")#asking user for input\n",
        "choice=int(input(\"Enter your choice\"))\n",
        "#celcius\n",
        "if choice==1:\n",
        "  celcius=float(input(\"Enter the temperature in celcius: \"))\n",
        "  fahrenheit=(celcius*(9/5)) +32#formula to convert to fahrenheit\n",
        "  #printing result\n",
        "  print(\"{1} celcius = {0} fahrenheit\".format(fahrenheit, celcius))\n",
        "#fahrenheit\n",
        "else:\n",
        "  fahrenheit=float(input(\"Enter  the temperature in fahrenheit: \"))\n",
        "  celcius=(farenheit-32)*(5/9)#formula to convert to celcius\n",
        "  #printing the result\n",
        "  print(\"{0} fahrenheit={1} celcius\".format(fahrenheit, celcius))\n"
      ],
      "metadata": {
        "id": "9hRfyfuPHcYL"
      },
      "execution_count": null,
      "outputs": []
    },
    {
      "cell_type": "markdown",
      "source": [
        "Simple interest"
      ],
      "metadata": {
        "id": "-k_seFyEHdvp"
      }
    },
    {
      "cell_type": "code",
      "source": [
        "temp=input(\"Enter time, rate and principal seperated by space: \")\n",
        "time,rate,principal=temp.split(\" \")\n",
        "print(\"Interest ={0:.2f}\".format(0.01*principal*time*rate))\n"
      ],
      "metadata": {
        "id": "0hsehDLxHh6T"
      },
      "execution_count": null,
      "outputs": []
    }
  ]
}