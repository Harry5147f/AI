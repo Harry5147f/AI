{
  "nbformat": 4,
  "nbformat_minor": 0,
  "metadata": {
    "colab": {
      "provenance": []
    },
    "kernelspec": {
      "name": "python3",
      "display_name": "Python 3"
    },
    "language_info": {
      "name": "python"
    }
  },
  "cells": [
    {
      "cell_type": "markdown",
      "source": [
        "**Importing libraries**"
      ],
      "metadata": {
        "id": "pYJXEuc_X3k6"
      }
    },
    {
      "cell_type": "code",
      "execution_count": 2,
      "metadata": {
        "id": "bK_F4dz5Xu9B"
      },
      "outputs": [],
      "source": [
        "import seaborn as sns\n",
        "import pandas as pd\n",
        "import numpy as np"
      ]
    },
    {
      "cell_type": "code",
      "source": [
        "import pandas as pd\n",
        "df=pd.read_csv('/content/drive/MyDrive/Datas/WA_Fn-UseC_-HR-Employee-Attrition.csv')\n",
        "#copying the variable so that we can modify the data in copied version\n",
        "df_copy=df.copy()"
      ],
      "metadata": {
        "id": "QkA9lWB8X90p",
        "collapsed": true
      },
      "execution_count": 3,
      "outputs": []
    },
    {
      "cell_type": "code",
      "source": [
        "#Information dekhauxa\n",
        "print(df_copy.info())"
      ],
      "metadata": {
        "id": "FQKcPXssodqw",
        "colab": {
          "base_uri": "https://localhost:8080/"
        },
        "collapsed": true,
        "outputId": "bb5897a7-f940-4e2c-877b-9edb7d0b5eca"
      },
      "execution_count": null,
      "outputs": [
        {
          "output_type": "stream",
          "name": "stdout",
          "text": [
            "<class 'pandas.core.frame.DataFrame'>\n",
            "RangeIndex: 1470 entries, 0 to 1469\n",
            "Data columns (total 35 columns):\n",
            " #   Column                    Non-Null Count  Dtype \n",
            "---  ------                    --------------  ----- \n",
            " 0   Age                       1470 non-null   int64 \n",
            " 1   Attrition                 1470 non-null   object\n",
            " 2   BusinessTravel            1470 non-null   object\n",
            " 3   DailyRate                 1470 non-null   int64 \n",
            " 4   Department                1470 non-null   object\n",
            " 5   DistanceFromHome          1470 non-null   int64 \n",
            " 6   Education                 1470 non-null   int64 \n",
            " 7   EducationField            1470 non-null   object\n",
            " 8   EmployeeCount             1470 non-null   int64 \n",
            " 9   EmployeeNumber            1470 non-null   int64 \n",
            " 10  EnvironmentSatisfaction   1470 non-null   int64 \n",
            " 11  Gender                    1470 non-null   object\n",
            " 12  HourlyRate                1470 non-null   int64 \n",
            " 13  JobInvolvement            1470 non-null   int64 \n",
            " 14  JobLevel                  1470 non-null   int64 \n",
            " 15  JobRole                   1470 non-null   object\n",
            " 16  JobSatisfaction           1470 non-null   int64 \n",
            " 17  MaritalStatus             1470 non-null   object\n",
            " 18  MonthlyIncome             1470 non-null   int64 \n",
            " 19  MonthlyRate               1470 non-null   int64 \n",
            " 20  NumCompaniesWorked        1470 non-null   int64 \n",
            " 21  Over18                    1470 non-null   object\n",
            " 22  OverTime                  1470 non-null   object\n",
            " 23  PercentSalaryHike         1470 non-null   int64 \n",
            " 24  PerformanceRating         1470 non-null   int64 \n",
            " 25  RelationshipSatisfaction  1470 non-null   int64 \n",
            " 26  StandardHours             1470 non-null   int64 \n",
            " 27  StockOptionLevel          1470 non-null   int64 \n",
            " 28  TotalWorkingYears         1470 non-null   int64 \n",
            " 29  TrainingTimesLastYear     1470 non-null   int64 \n",
            " 30  WorkLifeBalance           1470 non-null   int64 \n",
            " 31  YearsAtCompany            1470 non-null   int64 \n",
            " 32  YearsInCurrentRole        1470 non-null   int64 \n",
            " 33  YearsSinceLastPromotion   1470 non-null   int64 \n",
            " 34  YearsWithCurrManager      1470 non-null   int64 \n",
            "dtypes: int64(26), object(9)\n",
            "memory usage: 402.1+ KB\n",
            "None\n"
          ]
        }
      ]
    },
    {
      "cell_type": "code",
      "source": [
        "\n",
        "#Null values haru dekhauxa\n",
        "#df_copy.isnull().sum()\n",
        "\n",
        "# Print the count of each category in the 'MentalHealth' column to verify\n",
        "print(df_copy[\"MentalHealth\"].value_counts())"
      ],
      "metadata": {
        "colab": {
          "base_uri": "https://localhost:8080/"
        },
        "id": "29-12Ai3YKsT",
        "outputId": "e23e5c17-b9e5-4a8a-cef7-900752de19e2",
        "collapsed": true
      },
      "execution_count": 12,
      "outputs": [
        {
          "output_type": "stream",
          "name": "stdout",
          "text": [
            "MentalHealth\n",
            "Average     755\n",
            "Stable      358\n",
            "Unstable    357\n",
            "Name: count, dtype: int64\n"
          ]
        }
      ]
    },
    {
      "cell_type": "code",
      "source": [
        "#Showing columns\n",
        "print(df.columns)"
      ],
      "metadata": {
        "colab": {
          "base_uri": "https://localhost:8080/"
        },
        "id": "_xxOuB9cZWRv",
        "outputId": "a3d44ffe-9c66-4b3f-fbe8-d3bfcb8e425b",
        "collapsed": true
      },
      "execution_count": null,
      "outputs": [
        {
          "output_type": "stream",
          "name": "stdout",
          "text": [
            "Index(['Age', 'Attrition', 'BusinessTravel', 'DailyRate', 'Department',\n",
            "       'DistanceFromHome', 'Education', 'EducationField', 'EmployeeCount',\n",
            "       'EmployeeNumber', 'EnvironmentSatisfaction', 'Gender', 'HourlyRate',\n",
            "       'JobInvolvement', 'JobLevel', 'JobRole', 'JobSatisfaction',\n",
            "       'MaritalStatus', 'MonthlyIncome', 'MonthlyRate', 'NumCompaniesWorked',\n",
            "       'Over18', 'OverTime', 'PercentSalaryHike', 'PerformanceRating',\n",
            "       'RelationshipSatisfaction', 'StandardHours', 'StockOptionLevel',\n",
            "       'TotalWorkingYears', 'TrainingTimesLastYear', 'WorkLifeBalance',\n",
            "       'YearsAtCompany', 'YearsInCurrentRole', 'YearsSinceLastPromotion',\n",
            "       'YearsWithCurrManager'],\n",
            "      dtype='object')\n"
          ]
        }
      ]
    },
    {
      "cell_type": "code",
      "source": [
        "df_copy.isnull().sum()"
      ],
      "metadata": {
        "colab": {
          "base_uri": "https://localhost:8080/"
        },
        "collapsed": true,
        "id": "jQmdx0g9rD4y",
        "outputId": "d6cb87d8-e415-4949-efe8-9b0639763cfa"
      },
      "execution_count": null,
      "outputs": [
        {
          "output_type": "execute_result",
          "data": {
            "text/plain": [
              "Age                         0\n",
              "Attrition                   0\n",
              "BusinessTravel              0\n",
              "DailyRate                   0\n",
              "Department                  0\n",
              "DistanceFromHome            0\n",
              "Education                   0\n",
              "EducationField              0\n",
              "EmployeeCount               0\n",
              "EmployeeNumber              0\n",
              "EnvironmentSatisfaction     0\n",
              "Gender                      0\n",
              "HourlyRate                  0\n",
              "JobInvolvement              0\n",
              "JobLevel                    0\n",
              "JobRole                     0\n",
              "JobSatisfaction             0\n",
              "MaritalStatus               0\n",
              "MonthlyIncome               0\n",
              "MonthlyRate                 0\n",
              "NumCompaniesWorked          0\n",
              "Over18                      0\n",
              "OverTime                    0\n",
              "PercentSalaryHike           0\n",
              "PerformanceRating           0\n",
              "RelationshipSatisfaction    0\n",
              "StandardHours               0\n",
              "StockOptionLevel            0\n",
              "TotalWorkingYears           0\n",
              "TrainingTimesLastYear       0\n",
              "WorkLifeBalance             0\n",
              "YearsAtCompany              0\n",
              "YearsInCurrentRole          0\n",
              "YearsSinceLastPromotion     0\n",
              "YearsWithCurrManager        0\n",
              "RangeTOffice                0\n",
              "age_group                   0\n",
              "dtype: int64"
            ],
            "text/html": [
              "<div>\n",
              "<style scoped>\n",
              "    .dataframe tbody tr th:only-of-type {\n",
              "        vertical-align: middle;\n",
              "    }\n",
              "\n",
              "    .dataframe tbody tr th {\n",
              "        vertical-align: top;\n",
              "    }\n",
              "\n",
              "    .dataframe thead th {\n",
              "        text-align: right;\n",
              "    }\n",
              "</style>\n",
              "<table border=\"1\" class=\"dataframe\">\n",
              "  <thead>\n",
              "    <tr style=\"text-align: right;\">\n",
              "      <th></th>\n",
              "      <th>0</th>\n",
              "    </tr>\n",
              "  </thead>\n",
              "  <tbody>\n",
              "    <tr>\n",
              "      <th>Age</th>\n",
              "      <td>0</td>\n",
              "    </tr>\n",
              "    <tr>\n",
              "      <th>Attrition</th>\n",
              "      <td>0</td>\n",
              "    </tr>\n",
              "    <tr>\n",
              "      <th>BusinessTravel</th>\n",
              "      <td>0</td>\n",
              "    </tr>\n",
              "    <tr>\n",
              "      <th>DailyRate</th>\n",
              "      <td>0</td>\n",
              "    </tr>\n",
              "    <tr>\n",
              "      <th>Department</th>\n",
              "      <td>0</td>\n",
              "    </tr>\n",
              "    <tr>\n",
              "      <th>DistanceFromHome</th>\n",
              "      <td>0</td>\n",
              "    </tr>\n",
              "    <tr>\n",
              "      <th>Education</th>\n",
              "      <td>0</td>\n",
              "    </tr>\n",
              "    <tr>\n",
              "      <th>EducationField</th>\n",
              "      <td>0</td>\n",
              "    </tr>\n",
              "    <tr>\n",
              "      <th>EmployeeCount</th>\n",
              "      <td>0</td>\n",
              "    </tr>\n",
              "    <tr>\n",
              "      <th>EmployeeNumber</th>\n",
              "      <td>0</td>\n",
              "    </tr>\n",
              "    <tr>\n",
              "      <th>EnvironmentSatisfaction</th>\n",
              "      <td>0</td>\n",
              "    </tr>\n",
              "    <tr>\n",
              "      <th>Gender</th>\n",
              "      <td>0</td>\n",
              "    </tr>\n",
              "    <tr>\n",
              "      <th>HourlyRate</th>\n",
              "      <td>0</td>\n",
              "    </tr>\n",
              "    <tr>\n",
              "      <th>JobInvolvement</th>\n",
              "      <td>0</td>\n",
              "    </tr>\n",
              "    <tr>\n",
              "      <th>JobLevel</th>\n",
              "      <td>0</td>\n",
              "    </tr>\n",
              "    <tr>\n",
              "      <th>JobRole</th>\n",
              "      <td>0</td>\n",
              "    </tr>\n",
              "    <tr>\n",
              "      <th>JobSatisfaction</th>\n",
              "      <td>0</td>\n",
              "    </tr>\n",
              "    <tr>\n",
              "      <th>MaritalStatus</th>\n",
              "      <td>0</td>\n",
              "    </tr>\n",
              "    <tr>\n",
              "      <th>MonthlyIncome</th>\n",
              "      <td>0</td>\n",
              "    </tr>\n",
              "    <tr>\n",
              "      <th>MonthlyRate</th>\n",
              "      <td>0</td>\n",
              "    </tr>\n",
              "    <tr>\n",
              "      <th>NumCompaniesWorked</th>\n",
              "      <td>0</td>\n",
              "    </tr>\n",
              "    <tr>\n",
              "      <th>Over18</th>\n",
              "      <td>0</td>\n",
              "    </tr>\n",
              "    <tr>\n",
              "      <th>OverTime</th>\n",
              "      <td>0</td>\n",
              "    </tr>\n",
              "    <tr>\n",
              "      <th>PercentSalaryHike</th>\n",
              "      <td>0</td>\n",
              "    </tr>\n",
              "    <tr>\n",
              "      <th>PerformanceRating</th>\n",
              "      <td>0</td>\n",
              "    </tr>\n",
              "    <tr>\n",
              "      <th>RelationshipSatisfaction</th>\n",
              "      <td>0</td>\n",
              "    </tr>\n",
              "    <tr>\n",
              "      <th>StandardHours</th>\n",
              "      <td>0</td>\n",
              "    </tr>\n",
              "    <tr>\n",
              "      <th>StockOptionLevel</th>\n",
              "      <td>0</td>\n",
              "    </tr>\n",
              "    <tr>\n",
              "      <th>TotalWorkingYears</th>\n",
              "      <td>0</td>\n",
              "    </tr>\n",
              "    <tr>\n",
              "      <th>TrainingTimesLastYear</th>\n",
              "      <td>0</td>\n",
              "    </tr>\n",
              "    <tr>\n",
              "      <th>WorkLifeBalance</th>\n",
              "      <td>0</td>\n",
              "    </tr>\n",
              "    <tr>\n",
              "      <th>YearsAtCompany</th>\n",
              "      <td>0</td>\n",
              "    </tr>\n",
              "    <tr>\n",
              "      <th>YearsInCurrentRole</th>\n",
              "      <td>0</td>\n",
              "    </tr>\n",
              "    <tr>\n",
              "      <th>YearsSinceLastPromotion</th>\n",
              "      <td>0</td>\n",
              "    </tr>\n",
              "    <tr>\n",
              "      <th>YearsWithCurrManager</th>\n",
              "      <td>0</td>\n",
              "    </tr>\n",
              "    <tr>\n",
              "      <th>RangeTOffice</th>\n",
              "      <td>0</td>\n",
              "    </tr>\n",
              "    <tr>\n",
              "      <th>age_group</th>\n",
              "      <td>0</td>\n",
              "    </tr>\n",
              "  </tbody>\n",
              "</table>\n",
              "</div><br><label><b>dtype:</b> int64</label>"
            ]
          },
          "metadata": {},
          "execution_count": 105
        }
      ]
    },
    {
      "cell_type": "code",
      "source": [
        "import seaborn as sns\n",
        "\n",
        "sns.violinplot(df_copy[\"Age\"])"
      ],
      "metadata": {
        "colab": {
          "base_uri": "https://localhost:8080/",
          "height": 428
        },
        "id": "5HVlLWOEZfH8",
        "outputId": "9dcb3ca2-963e-4fdf-d527-aca9e1c17167",
        "collapsed": true
      },
      "execution_count": null,
      "outputs": [
        {
          "output_type": "execute_result",
          "data": {
            "text/plain": [
              "<Axes: ylabel='Age'>"
            ]
          },
          "metadata": {},
          "execution_count": 5
        },
        {
          "output_type": "display_data",
          "data": {
            "text/plain": [
              "<Figure size 640x480 with 1 Axes>"
            ],
            "image/png": "[encoded data removed]"
          },
          "metadata": {}
        }
      ]
    },
    {
      "cell_type": "code",
      "source": [
        "#df_copy[\"StockOptionLevel\"].value_counts()\n",
        "sns.boxplot(df_copy[\"StockOptionLevel\"])\n"
      ],
      "metadata": {
        "colab": {
          "base_uri": "https://localhost:8080/",
          "height": 0
        },
        "id": "6T-mSdFp8NUK",
        "outputId": "d3615da8-fbbf-4ba1-b979-80a4c083ba64",
        "collapsed": true
      },
      "execution_count": 23,
      "outputs": [
        {
          "output_type": "execute_result",
          "data": {
            "text/plain": [
              "<Axes: ylabel='StockOptionLevel'>"
            ]
          },
          "metadata": {},
          "execution_count": 23
        },
        {
          "output_type": "display_data",
          "data": {
            "text/plain": [
              "<Figure size 640x480 with 1 Axes>"
            ],
            "image/png": "[encoded data removed]"
          },
          "metadata": {}
        }
      ]
    },
    {
      "cell_type": "markdown",
      "source": [
        "#Detection of outlier"
      ],
      "metadata": {
        "id": "Jwiv4yfMzT-M"
      }
    },
    {
      "cell_type": "code",
      "source": [],
      "metadata": {
        "id": "KVbfPPZT8Mcc"
      },
      "execution_count": null,
      "outputs": []
    },
    {
      "cell_type": "code",
      "source": [
        "for i in df_copy.select_dtypes(include=['int64', 'float64']).columns:\n",
        "    q1 = df_copy[i].quantile(0.25)\n",
        "    q3 = df_copy[i].quantile(0.75)\n",
        "    iqr = q3 - q1\n",
        "    lower_bound = q1 - iqr * 1.5\n",
        "    upper_bound = q3 + iqr * 1.5\n",
        "\n",
        "    outliers = df_copy[(df_copy[i] < lower_bound) | (df_copy[i] > upper_bound)]\n",
        "    if not outliers.empty:\n",
        "        print(f\"Outliers found in column '{i}': \")\n",
        "\n",
        "    # else:\n",
        "    #     print(f\"No outliers found in column '{i}'.\")"
      ],
      "metadata": {
        "id": "th37lFJ-eHIv",
        "colab": {
          "base_uri": "https://localhost:8080/"
        },
        "collapsed": true,
        "outputId": "41e08020-e527-4f7f-dace-3d4ad8726f7d"
      },
      "execution_count": null,
      "outputs": [
        {
          "output_type": "stream",
          "name": "stdout",
          "text": [
            "Outliers found in column 'MonthlyIncome': \n",
            "Outliers found in column 'NumCompaniesWorked': \n",
            "Outliers found in column 'PerformanceRating': \n",
            "Outliers found in column 'StockOptionLevel': \n",
            "Outliers found in column 'TotalWorkingYears': \n",
            "Outliers found in column 'TrainingTimesLastYear': \n",
            "Outliers found in column 'YearsAtCompany': \n",
            "Outliers found in column 'YearsInCurrentRole': \n",
            "Outliers found in column 'YearsSinceLastPromotion': \n",
            "Outliers found in column 'YearsWithCurrManager': \n"
          ]
        }
      ]
    },
    {
      "cell_type": "markdown",
      "source": [
        "**Converting attrition column to categories**"
      ],
      "metadata": {
        "id": "PHHKgplqf844"
      }
    },
    {
      "cell_type": "code",
      "source": [
        "\n",
        "df_copy[\"Attrition\"]=df_copy[\"Attrition\"].map({\"Yes\":1,\"No\":0,1:1, 0:0})\n",
        "#.map le numeric ma convert gardinxa Like 1 for Yes and 0 for No\n",
        "#Last ko 0:0 ra 1:1 chai error na aaos vanna lai matrai hoo\n",
        "print(df_copy[\"Attrition\"])"
      ],
      "metadata": {
        "id": "xgPLqybCfFQ_",
        "colab": {
          "base_uri": "https://localhost:8080/"
        },
        "collapsed": true,
        "outputId": "f6f26477-32e0-44d8-bd48-1b1f09e0fed8"
      },
      "execution_count": null,
      "outputs": [
        {
          "output_type": "stream",
          "name": "stdout",
          "text": [
            "0       1\n",
            "1       0\n",
            "2       1\n",
            "3       0\n",
            "4       0\n",
            "       ..\n",
            "1465    0\n",
            "1466    0\n",
            "1467    0\n",
            "1468    0\n",
            "1469    0\n",
            "Name: Attrition, Length: 1470, dtype: int64\n"
          ]
        }
      ]
    },
    {
      "cell_type": "code",
      "source": [
        "print(df_copy['BusinessTravel'].head())"
      ],
      "metadata": {
        "colab": {
          "base_uri": "https://localhost:8080/"
        },
        "collapsed": true,
        "id": "rnBPa6yzLpL3",
        "outputId": "ea5d0a8a-2137-4f0c-c222-eda60bf97d94"
      },
      "execution_count": null,
      "outputs": [
        {
          "output_type": "stream",
          "name": "stdout",
          "text": [
            "0        Travel_Rarely\n",
            "1    Travel_Frequently\n",
            "2        Travel_Rarely\n",
            "3    Travel_Frequently\n",
            "4        Travel_Rarely\n",
            "Name: BusinessTravel, dtype: object\n"
          ]
        }
      ]
    },
    {
      "cell_type": "code",
      "source": [
        "df_copy['BusinessTravel']=df_copy[\"BusinessTravel\"].map({\"Travel_Rarely\":1,\"Travel_Frequently\":2,\"Non-Travel\":0,0:0,1:1,2:2})\n",
        "#.map le Tyo specific values ma number haru halxa like Travel_Rarely\" ma 1...\n",
        "#0:0,2:2 rakhda Error aaudaina\n",
        "print(df_copy['BusinessTravel'].head())"
      ],
      "metadata": {
        "colab": {
          "base_uri": "https://localhost:8080/"
        },
        "collapsed": true,
        "id": "cCM-mrToLEk4",
        "outputId": "fc0b795c-b88b-4aa6-9738-7f506434658b"
      },
      "execution_count": null,
      "outputs": [
        {
          "output_type": "stream",
          "name": "stdout",
          "text": [
            "0    1\n",
            "1    2\n",
            "2    1\n",
            "3    2\n",
            "4    1\n",
            "Name: BusinessTravel, dtype: int64\n"
          ]
        }
      ]
    },
    {
      "cell_type": "code",
      "source": [
        "df_copy[\"OverTime\"].head()"
      ],
      "metadata": {
        "colab": {
          "base_uri": "https://localhost:8080/"
        },
        "collapsed": true,
        "id": "irMXwTVbNT_z",
        "outputId": "438ebdeb-8c8d-42db-d3ac-d11a7853790a"
      },
      "execution_count": null,
      "outputs": [
        {
          "output_type": "execute_result",
          "data": {
            "text/plain": [
              "0    Yes\n",
              "1     No\n",
              "2    Yes\n",
              "3    Yes\n",
              "4     No\n",
              "Name: OverTime, dtype: object"
            ],
            "text/html": [
              "<div>\n",
              "<style scoped>\n",
              "    .dataframe tbody tr th:only-of-type {\n",
              "        vertical-align: middle;\n",
              "    }\n",
              "\n",
              "    .dataframe tbody tr th {\n",
              "        vertical-align: top;\n",
              "    }\n",
              "\n",
              "    .dataframe thead th {\n",
              "        text-align: right;\n",
              "    }\n",
              "</style>\n",
              "<table border=\"1\" class=\"dataframe\">\n",
              "  <thead>\n",
              "    <tr style=\"text-align: right;\">\n",
              "      <th></th>\n",
              "      <th>OverTime</th>\n",
              "    </tr>\n",
              "  </thead>\n",
              "  <tbody>\n",
              "    <tr>\n",
              "      <th>0</th>\n",
              "      <td>Yes</td>\n",
              "    </tr>\n",
              "    <tr>\n",
              "      <th>1</th>\n",
              "      <td>No</td>\n",
              "    </tr>\n",
              "    <tr>\n",
              "      <th>2</th>\n",
              "      <td>Yes</td>\n",
              "    </tr>\n",
              "    <tr>\n",
              "      <th>3</th>\n",
              "      <td>Yes</td>\n",
              "    </tr>\n",
              "    <tr>\n",
              "      <th>4</th>\n",
              "      <td>No</td>\n",
              "    </tr>\n",
              "  </tbody>\n",
              "</table>\n",
              "</div><br><label><b>dtype:</b> object</label>"
            ]
          },
          "metadata": {},
          "execution_count": 35
        }
      ]
    },
    {
      "cell_type": "code",
      "source": [
        "df_copy[\"OverTime\"]=df_copy['OverTime'].map({\"Yes\":1,\"No\":0,0:0,1:1})\n",
        "df_copy[\"OverTime\"].head()"
      ],
      "metadata": {
        "colab": {
          "base_uri": "https://localhost:8080/"
        },
        "collapsed": true,
        "id": "y33BU3hfF7Ft",
        "outputId": "8f4d23f3-3a66-494c-c5bb-cb17654bce67"
      },
      "execution_count": null,
      "outputs": [
        {
          "output_type": "execute_result",
          "data": {
            "text/plain": [
              "0    1\n",
              "1    0\n",
              "2    1\n",
              "3    1\n",
              "4    0\n",
              "Name: OverTime, dtype: int64"
            ],
            "text/html": [
              "<div>\n",
              "<style scoped>\n",
              "    .dataframe tbody tr th:only-of-type {\n",
              "        vertical-align: middle;\n",
              "    }\n",
              "\n",
              "    .dataframe tbody tr th {\n",
              "        vertical-align: top;\n",
              "    }\n",
              "\n",
              "    .dataframe thead th {\n",
              "        text-align: right;\n",
              "    }\n",
              "</style>\n",
              "<table border=\"1\" class=\"dataframe\">\n",
              "  <thead>\n",
              "    <tr style=\"text-align: right;\">\n",
              "      <th></th>\n",
              "      <th>OverTime</th>\n",
              "    </tr>\n",
              "  </thead>\n",
              "  <tbody>\n",
              "    <tr>\n",
              "      <th>0</th>\n",
              "      <td>1</td>\n",
              "    </tr>\n",
              "    <tr>\n",
              "      <th>1</th>\n",
              "      <td>0</td>\n",
              "    </tr>\n",
              "    <tr>\n",
              "      <th>2</th>\n",
              "      <td>1</td>\n",
              "    </tr>\n",
              "    <tr>\n",
              "      <th>3</th>\n",
              "      <td>1</td>\n",
              "    </tr>\n",
              "    <tr>\n",
              "      <th>4</th>\n",
              "      <td>0</td>\n",
              "    </tr>\n",
              "  </tbody>\n",
              "</table>\n",
              "</div><br><label><b>dtype:</b> int64</label>"
            ]
          },
          "metadata": {},
          "execution_count": 47
        }
      ]
    },
    {
      "cell_type": "code",
      "source": [
        "df_copy[\"MaritalStatus\"].head()"
      ],
      "metadata": {
        "colab": {
          "base_uri": "https://localhost:8080/"
        },
        "collapsed": true,
        "id": "c0BA628mNshc",
        "outputId": "6547c5fc-e398-4f55-946a-c068c433aeb4"
      },
      "execution_count": null,
      "outputs": [
        {
          "output_type": "execute_result",
          "data": {
            "text/plain": [
              "0     Single\n",
              "1    Married\n",
              "2     Single\n",
              "3    Married\n",
              "4    Married\n",
              "Name: MaritalStatus, dtype: object"
            ],
            "text/html": [
              "<div>\n",
              "<style scoped>\n",
              "    .dataframe tbody tr th:only-of-type {\n",
              "        vertical-align: middle;\n",
              "    }\n",
              "\n",
              "    .dataframe tbody tr th {\n",
              "        vertical-align: top;\n",
              "    }\n",
              "\n",
              "    .dataframe thead th {\n",
              "        text-align: right;\n",
              "    }\n",
              "</style>\n",
              "<table border=\"1\" class=\"dataframe\">\n",
              "  <thead>\n",
              "    <tr style=\"text-align: right;\">\n",
              "      <th></th>\n",
              "      <th>MaritalStatus</th>\n",
              "    </tr>\n",
              "  </thead>\n",
              "  <tbody>\n",
              "    <tr>\n",
              "      <th>0</th>\n",
              "      <td>Single</td>\n",
              "    </tr>\n",
              "    <tr>\n",
              "      <th>1</th>\n",
              "      <td>Married</td>\n",
              "    </tr>\n",
              "    <tr>\n",
              "      <th>2</th>\n",
              "      <td>Single</td>\n",
              "    </tr>\n",
              "    <tr>\n",
              "      <th>3</th>\n",
              "      <td>Married</td>\n",
              "    </tr>\n",
              "    <tr>\n",
              "      <th>4</th>\n",
              "      <td>Married</td>\n",
              "    </tr>\n",
              "  </tbody>\n",
              "</table>\n",
              "</div><br><label><b>dtype:</b> object</label>"
            ]
          },
          "metadata": {},
          "execution_count": 52
        }
      ]
    },
    {
      "cell_type": "code",
      "source": [
        "M=\"Married\"\n",
        "S=\"Single\"\n",
        "D=\"Divorced\"\n",
        "df_copy[\"MaritalStatus\"]=df_copy[\"MaritalStatus\"].map({S:0,M:1,D:-1, -1:-1,1:1,0:0})\n",
        "print(df_copy[\"MaritalStatus\"].head())"
      ],
      "metadata": {
        "colab": {
          "base_uri": "https://localhost:8080/"
        },
        "collapsed": true,
        "id": "1ATya5r8O33O",
        "outputId": "e4d266fb-3b09-4323-a52d-dd2149e0bb52"
      },
      "execution_count": null,
      "outputs": [
        {
          "output_type": "stream",
          "name": "stdout",
          "text": [
            "0    0\n",
            "1    1\n",
            "2    0\n",
            "3    1\n",
            "4    1\n",
            "Name: MaritalStatus, dtype: int64\n"
          ]
        }
      ]
    },
    {
      "cell_type": "code",
      "source": [
        "df_copy[\"Over18\"]=df_copy[\"Over18\"].map({\"Y\":1,\"N\":0,0:0,1:1})\n",
        "print(df_copy[\"Over18\"].head())"
      ],
      "metadata": {
        "colab": {
          "base_uri": "https://localhost:8080/"
        },
        "collapsed": true,
        "id": "qpp-akfBfPaR",
        "outputId": "2a70b80c-b667-460b-edf0-05866eb616f4"
      },
      "execution_count": null,
      "outputs": [
        {
          "output_type": "stream",
          "name": "stdout",
          "text": [
            "0    1\n",
            "1    1\n",
            "2    1\n",
            "3    1\n",
            "4    1\n",
            "Name: Over18, dtype: int64\n"
          ]
        }
      ]
    },
    {
      "cell_type": "markdown",
      "source": [
        "pd.cut() function to group and label them"
      ],
      "metadata": {
        "id": "82CvtFulfnxv"
      }
    },
    {
      "cell_type": "code",
      "source": [
        "df_copy[\"DistanceFromHome\"].head()\n"
      ],
      "metadata": {
        "colab": {
          "base_uri": "https://localhost:8080/"
        },
        "id": "qhja7o1RR3KM",
        "outputId": "faf160ba-d75f-4ccd-b0eb-9a12c4ef7d63",
        "collapsed": true
      },
      "execution_count": null,
      "outputs": [
        {
          "output_type": "execute_result",
          "data": {
            "text/plain": [
              "0    1\n",
              "1    8\n",
              "2    2\n",
              "3    3\n",
              "4    2\n",
              "Name: DistanceFromHome, dtype: int64"
            ],
            "text/html": [
              "<div>\n",
              "<style scoped>\n",
              "    .dataframe tbody tr th:only-of-type {\n",
              "        vertical-align: middle;\n",
              "    }\n",
              "\n",
              "    .dataframe tbody tr th {\n",
              "        vertical-align: top;\n",
              "    }\n",
              "\n",
              "    .dataframe thead th {\n",
              "        text-align: right;\n",
              "    }\n",
              "</style>\n",
              "<table border=\"1\" class=\"dataframe\">\n",
              "  <thead>\n",
              "    <tr style=\"text-align: right;\">\n",
              "      <th></th>\n",
              "      <th>DistanceFromHome</th>\n",
              "    </tr>\n",
              "  </thead>\n",
              "  <tbody>\n",
              "    <tr>\n",
              "      <th>0</th>\n",
              "      <td>1</td>\n",
              "    </tr>\n",
              "    <tr>\n",
              "      <th>1</th>\n",
              "      <td>8</td>\n",
              "    </tr>\n",
              "    <tr>\n",
              "      <th>2</th>\n",
              "      <td>2</td>\n",
              "    </tr>\n",
              "    <tr>\n",
              "      <th>3</th>\n",
              "      <td>3</td>\n",
              "    </tr>\n",
              "    <tr>\n",
              "      <th>4</th>\n",
              "      <td>2</td>\n",
              "    </tr>\n",
              "  </tbody>\n",
              "</table>\n",
              "</div><br><label><b>dtype:</b> int64</label>"
            ]
          },
          "metadata": {},
          "execution_count": 69
        }
      ]
    },
    {
      "cell_type": "code",
      "source": [
        "df_copy[\"RangeTOffice\"]=pd.cut(df[\"DistanceFromHome\"],bins=[0,10,20,29],labels=[\"Near\",\"Average\",\"Far\"])\n",
        "print(df_copy[\"RangeTOffice\"].tail())\n"
      ],
      "metadata": {
        "id": "9Xlrw4GeP0oj",
        "colab": {
          "base_uri": "https://localhost:8080/"
        },
        "collapsed": true,
        "outputId": "9345201c-ec2a-4f63-ea5d-f0db271a6d01"
      },
      "execution_count": null,
      "outputs": [
        {
          "output_type": "stream",
          "name": "stdout",
          "text": [
            "1465     Far\n",
            "1466    Near\n",
            "1467    Near\n",
            "1468    Near\n",
            "1469    Near\n",
            "Name: RangeTOffice, dtype: category\n",
            "Categories (3, object): ['Near' < 'Average' < 'Far']\n"
          ]
        }
      ]
    },
    {
      "cell_type": "code",
      "source": [
        "print(df_copy[\"Age\"].head())\n",
        "df_copy[\"age_group\"]=pd.cut(df[\"Age\"],bins=[14,20,25,45,60],labels=[\"Entry_level\",\"Mid_level\",\"Senior_level\",\"Experienced\"])\n",
        "#bins le group banauxa, like 15-20...etc, ani labels le Tyo group ko person lai grouping garxa, like 15-19 are Entry level\n",
        "print(df_copy[\"age_group\"].head())\n"
      ],
      "metadata": {
        "colab": {
          "base_uri": "https://localhost:8080/"
        },
        "collapsed": true,
        "id": "Z7DR9nZYbYIT",
        "outputId": "3604f9c6-e5c4-426e-f554-d2e0829b53b4"
      },
      "execution_count": null,
      "outputs": [
        {
          "output_type": "stream",
          "name": "stdout",
          "text": [
            "0    41\n",
            "1    49\n",
            "2    37\n",
            "3    33\n",
            "4    27\n",
            "Name: Age, dtype: int64\n",
            "0    Senior_level\n",
            "1     Experienced\n",
            "2    Senior_level\n",
            "3    Senior_level\n",
            "4    Senior_level\n",
            "Name: age_group, dtype: category\n",
            "Categories (4, object): ['Entry_level' < 'Mid_level' < 'Senior_level' < 'Experienced']\n"
          ]
        }
      ]
    },
    {
      "cell_type": "code",
      "source": [
        "df_copy[\"MonthlyIncome\"]=np.log(df_copy[\"MonthlyIncome\"])\n",
        "df_copy[\"MonthlyIncome\"].head()\n",
        "sns.boxplot(df_copy[\"MonthlyIncome\"])"
      ],
      "metadata": {
        "colab": {
          "base_uri": "https://localhost:8080/",
          "height": 427
        },
        "id": "Qt_PCbbpfvSX",
        "outputId": "425f186d-8cdd-4b35-d1d8-0eb2c6fd5f4d",
        "collapsed": true
      },
      "execution_count": null,
      "outputs": [
        {
          "output_type": "execute_result",
          "data": {
            "text/plain": [
              "<Axes: ylabel='MonthlyIncome'>"
            ]
          },
          "metadata": {},
          "execution_count": 163
        },
        {
          "output_type": "display_data",
          "data": {
            "text/plain": [
              "<Figure size 640x480 with 1 Axes>"
            ],
            "image/png": "[encoded data removed]"
          },
          "metadata": {}
        }
      ]
    },
    {
      "cell_type": "code",
      "source": [
        "print(df_copy[\"StockOptionLevel\"].unique())\n",
        "df_copy[\"PerformanceRating\"]=df_copy[\"PerformanceRating\"].mean()\n",
        "print(df_copy[\"PerformanceRating\"])\n",
        "sns.boxplot(df[\"PerformanceByRating\"])"
      ],
      "metadata": {
        "id": "Q1S4zmFCeG9r"
      },
      "execution_count": null,
      "outputs": []
    },
    {
      "cell_type": "code",
      "source": [
        "df_copy[\"YearsAtCompany\"]=np.log(df_copy[\"YearsAtCompany\"])\n",
        "df_copy[\"MonthlyIncome\"].head()\n",
        "sns.boxplot(df_copy[\"MonthlyIncome\"])"
      ],
      "metadata": {
        "id": "82p_azvl873M"
      },
      "execution_count": null,
      "outputs": []
    },
    {
      "cell_type": "code",
      "source": [
        "df_copy = handle_outliers_capping(df_copy, 'YearsInCurrentRole')\n",
        "\n",
        "# You can optionally check for outliers again after capping to see the effect\n",
        "for i in ['YearsInCurrentRole']: # Check only the modified column\n",
        "  q1 = df_copy[i].quantile(0.25)\n",
        "  q3 = df_copy[i].quantile(0.75)\n",
        "  iqr = q3 - q1\n",
        "  lower_bound = q1 - iqr * 1.5\n",
        "  upper_bound = q3 + iqr * 1.5\n",
        "\n",
        "  outliers = df_copy[(df_copy[i] < lower_bound) | (df_copy[i] > upper_bound)]\n",
        "  if not outliers.empty:\n",
        "    print(f\"Outliers found in column '{i}' after capping: \")\n",
        "  else:\n",
        "    print(f\"No outliers found in column '{i}' after capping.\")\n",
        "\n",
        "# You can also visualize the distribution after handling outliers\n",
        "sns.boxplot(df_copy['YearsInCurrentRole'])"
      ],
      "metadata": {
        "id": "SEDRgyta_unv"
      },
      "execution_count": null,
      "outputs": []
    },
    {
      "cell_type": "code",
      "source": [
        "#Seeing mental health status\n",
        "df_copy[\"Temp\"]=df[\"JobSatisfaction\"]+df[\"WorkLifeBalance\"]\n",
        "# Fix: Apply the condition row by row to assign \"Stable\" or \"Unstable\"\n",
        "df_copy[\"MentalHealth\"] = pd.cut(df_copy[\"Temp\"], bins=[0,4,6,8],labels=[\"Unstable\",\"Average\",\"Stable\"])\n",
        "print(df_copy[\"MentalHealth\"])\n"
      ],
      "metadata": {
        "id": "cKvOHRJ9_3w5",
        "colab": {
          "base_uri": "https://localhost:8080/"
        },
        "collapsed": true,
        "outputId": "8b957b45-f181-4d22-ac1b-00535a1275f3"
      },
      "execution_count": 19,
      "outputs": [
        {
          "output_type": "stream",
          "name": "stdout",
          "text": [
            "0        Average\n",
            "1        Average\n",
            "2        Average\n",
            "3        Average\n",
            "4        Average\n",
            "          ...   \n",
            "1465      Stable\n",
            "1466    Unstable\n",
            "1467     Average\n",
            "1468    Unstable\n",
            "1469      Stable\n",
            "Name: MentalHealth, Length: 1470, dtype: category\n",
            "Categories (3, object): ['Unstable' < 'Average' < 'Stable']\n"
          ]
        }
      ]
    },
    {
      "cell_type": "code",
      "source": [],
      "metadata": {
        "id": "q-QfuwfbA3hM",
        "colab": {
          "base_uri": "https://localhost:8080/"
        },
        "collapsed": true,
        "outputId": "97b7435b-aa3b-407f-a592-53b979b1914d"
      },
      "execution_count": 17,
      "outputs": [
        {
          "output_type": "stream",
          "name": "stdout",
          "text": [
            "\n",
            "Combined categorical feature 'Department_JobRole' created.\n",
            "               Department                JobRole  \\\n",
            "0                   Sales        Sales Executive   \n",
            "1  Research & Development     Research Scientist   \n",
            "2  Research & Development  Laboratory Technician   \n",
            "3  Research & Development     Research Scientist   \n",
            "4  Research & Development  Laboratory Technician   \n",
            "\n",
            "                                  Department_JobRole  \n",
            "0  Person is inSales department and is doing Sale...  \n",
            "1  Person is inResearch & Development department ...  \n",
            "2  Person is inResearch & Development department ...  \n",
            "3  Person is inResearch & Development department ...  \n",
            "4  Person is inResearch & Development department ...  \n"
          ]
        }
      ]
    },
    {
      "cell_type": "code",
      "source": [
        "\n",
        "# 6. Feature based on work-life balance (creating a simple composite score)\n",
        "# Normalize or scale if necessary before summing, but for simplicity, we'll just sum\n",
        "# Note: This is a very basic example. A more sophisticated approach might involve different weights or interactions.\n",
        "df_copy['WorkLifeBalance_Score'] = df_copy['RelationshipSatisfaction'] + df_copy['EnvironmentSatisfaction'] - df_copy['OverTime'] - df_copy['BusinessTravel'] # Assuming higher values for satisfaction are good, and higher values for overtime/travel are bad after mapping\n",
        "print(\"\\nWork-life balance score feature created.\")\n",
        "print(df_copy[['RelationshipSatisfaction', 'EnvironmentSatisfaction', 'OverTime', 'BusinessTravel', 'WorkLifeBalance_Score']].head())\n"
      ],
      "metadata": {
        "id": "7DdQ6mv2A99r"
      },
      "execution_count": null,
      "outputs": []
    },
    {
      "cell_type": "code",
      "source": [],
      "metadata": {
        "id": "EVH5o8LEEqCQ"
      },
      "execution_count": null,
      "outputs": []
    }
  ]
}