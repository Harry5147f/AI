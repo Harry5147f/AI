{
  "nbformat": 4,
  "nbformat_minor": 0,
  "metadata": {
    "colab": {
      "provenance": []
    },
    "kernelspec": {
      "name": "python3",
      "display_name": "Python 3"
    },
    "language_info": {
      "name": "python"
    }
  },
  "cells": [
    {
      "cell_type": "markdown",
      "source": [
        "**Creating numpy array and its attribute**"
      ],
      "metadata": {
        "id": "S4RCBYf3ELwq"
      }
    },
    {
      "cell_type": "code",
      "execution_count": null,
      "metadata": {
        "colab": {
          "base_uri": "https://localhost:8080/"
        },
        "id": "ZpUBL9OcDmy-",
        "outputId": "5fcf6e51-3ea9-436c-dd92-07656ff4797c"
      },
      "outputs": [
        {
          "output_type": "stream",
          "name": "stdout",
          "text": [
            "[1 2 3 4 5]\n"
          ]
        }
      ],
      "source": [
        "import numpy as np\n",
        "List=[1,3,5,7,9]\n",
        "#Creating list named List\n",
        "myArr=np.array(List)\n",
        "#Creating 1-D numpy array from List\n",
        "print(myArr)\n",
        "\n",
        "#Creating 0-D array\n",
        "arr0_d=np.array(42)\n",
        "print(arr0_d)\n",
        "\n",
        "#Creating 2-D array\n",
        "arr_2d=np.array([[1,2,3],[4,5,6]])\n",
        "print"
      ]
    },
    {
      "cell_type": "markdown",
      "source": [
        "#Homework"
      ],
      "metadata": {
        "id": "n2zx1ZbFWCUD"
      }
    },
    {
      "cell_type": "markdown",
      "source": [
        "Creating array of 3X3 with random integer between 1 and 10 inclusive"
      ],
      "metadata": {
        "id": "L81WNy3lWP8V"
      }
    },
    {
      "cell_type": "code",
      "source": [
        "import numpy as np\n",
        "#Generating random array using random of range 1 to 10;\n",
        "#We are not importing random because random is of np\n",
        "random_array=np.random.randint(1,11,size=(3,3))\n",
        "print(\"Before filtering\")\n",
        "print(random_array)\n",
        "for i in range(3):\n",
        "  for j in range(3):\n",
        "    if (random_array[i][j])>5.0:\n",
        "      random_array[i][j]=0\n",
        "print(\"After filtering\")\n",
        "print(random_array)\n",
        "\"\"\"or\n",
        "arr[arr>5]=0\n",
        "print(arr)\n",
        "\"\"\"\n"
      ],
      "metadata": {
        "id": "-3B2eFVDEHgb",
        "colab": {
          "base_uri": "https://localhost:8080/"
        },
        "outputId": "767ddc89-b755-4fcc-e2fb-3ef4429b5f49"
      },
      "execution_count": null,
      "outputs": [
        {
          "output_type": "stream",
          "name": "stdout",
          "text": [
            "Before filtering\n",
            "[[ 7  3  1]\n",
            " [10  7  8]\n",
            " [ 5  8 10]]\n",
            "After filtering\n",
            "[[0 3 1]\n",
            " [0 0 0]\n",
            " [5 0 0]]\n"
          ]
        }
      ]
    },
    {
      "cell_type": "markdown",
      "source": [
        "**Creating array and using adding and using dot product.**"
      ],
      "metadata": {
        "id": "PRj3IDSjYsUE"
      }
    },
    {
      "cell_type": "code",
      "source": [
        "import numpy as np\n",
        "first_array=np.array([2,4,6,8])\n",
        "second_array=np.array([1,3,5,7])\n",
        "sum_array=first_array+second_array\n",
        "dot_product=np.dot(first_array,second_array)\n",
        "print(sum_array)\n",
        "print(dot_product)\n",
        "\n",
        "\n"
      ],
      "metadata": {
        "colab": {
          "base_uri": "https://localhost:8080/"
        },
        "id": "aRvY8o7cXIWx",
        "outputId": "aefdaaa4-06b6-4416-d8bc-440af2d593fb"
      },
      "execution_count": null,
      "outputs": [
        {
          "output_type": "stream",
          "name": "stdout",
          "text": [
            "[ 3  7 11 15]\n",
            "100\n"
          ]
        }
      ]
    },
    {
      "cell_type": "markdown",
      "source": [
        "**Creating 2D array of shape 4X3 filled with ones. Then adding 1D array to 2D array using broadcasting.**\n"
      ],
      "metadata": {
        "id": "IH_kyxg1aeMQ"
      }
    },
    {
      "cell_type": "code",
      "source": [
        "import numpy as np\n",
        "TwoDarr=np.ones((3,4))\n",
        "OneDarr=np.array([10,20,30])\n",
        "OneDarr=OneDarr.reshape(-1,1)\n",
        "AddArray=TwoDarr+OneDarr\n",
        "print(AddArray)\n"
      ],
      "metadata": {
        "colab": {
          "base_uri": "https://localhost:8080/"
        },
        "id": "3WMO03wVZgRf",
        "outputId": "2ac4e587-cc4f-4bd9-8ba9-e212221ebb40"
      },
      "execution_count": null,
      "outputs": [
        {
          "output_type": "stream",
          "name": "stdout",
          "text": [
            "[[11. 11. 11. 11.]\n",
            " [21. 21. 21. 21.]\n",
            " [31. 31. 31. 31.]]\n"
          ]
        }
      ]
    },
    {
      "cell_type": "markdown",
      "source": [
        "**Extracting second column from 2D array and taking out mean from it**"
      ],
      "metadata": {
        "id": "AeE55qWocoHC"
      }
    },
    {
      "cell_type": "code",
      "source": [
        "import numpy as np\n",
        "#TwoDarr=(Two) (D)imension (arr)ay\n",
        "TwoDarr=np.array([[1,2,3],[4,5,6],[7,8,9]])\n",
        "mean=np.mean(TwoDarr[1,0:])\n",
        "print(mean)\n"
      ],
      "metadata": {
        "colab": {
          "base_uri": "https://localhost:8080/"
        },
        "id": "5cmRa1HlbhWX",
        "outputId": "f7e511af-646a-4900-931b-b0f93f8a5d4e"
      },
      "execution_count": null,
      "outputs": [
        {
          "output_type": "stream",
          "name": "stdout",
          "text": [
            "5.0\n"
          ]
        }
      ]
    },
    {
      "cell_type": "markdown",
      "source": [
        "Using boolean mask to select elements greater than 5 and square them and print both array"
      ],
      "metadata": {
        "id": "GHgSwduaJRyM"
      }
    },
    {
      "cell_type": "code",
      "source": [
        "import numpy as np\n",
        "List=[10,20,30,40,50,60]\n",
        "arr=np.array(List)\n",
        "\n",
        "print(\"Before modified\", arr)\n",
        "for i in range(len(arr)):\n",
        "  if arr[i]>30:\n",
        "    arr[i]=arr[i]**2\n",
        "print(\"After modified: \",arr)\n"
      ],
      "metadata": {
        "id": "3t5978PZdS5J",
        "colab": {
          "base_uri": "https://localhost:8080/"
        },
        "outputId": "90dd57d1-0fb1-418c-b1fe-7f66e62dd02d"
      },
      "execution_count": null,
      "outputs": [
        {
          "output_type": "stream",
          "name": "stdout",
          "text": [
            "Before modified [10 20 30 40 50 60]\n",
            "After modified:  [  10   20   30 1600 2500 3600]\n"
          ]
        }
      ]
    },
    {
      "cell_type": "code",
      "source": [],
      "metadata": {
        "id": "UYIuTC11KF7V"
      },
      "execution_count": null,
      "outputs": []
    }
  ]
}